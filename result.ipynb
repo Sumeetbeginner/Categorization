{
 "cells": [
  {
   "cell_type": "code",
   "execution_count": 11,
   "metadata": {},
   "outputs": [
    {
     "name": "stderr",
     "output_type": "stream",
     "text": [
      "WARNING:absl:Compiled the loaded model, but the compiled metrics have yet to be built. `model.compile_metrics` will be empty until you train or evaluate the model.\n"
     ]
    },
    {
     "name": "stdout",
     "output_type": "stream",
     "text": [
      "\u001b[1m1/1\u001b[0m \u001b[32m━━━━━━━━━━━━━━━━━━━━\u001b[0m\u001b[37m\u001b[0m \u001b[1m0s\u001b[0m 93ms/step\n",
      "The predicted class for the image is: violence_train\n"
     ]
    }
   ],
   "source": [
    "import numpy as np\n",
    "import cv2\n",
    "import tensorflow as tf\n",
    "from tensorflow.keras.preprocessing.image import ImageDataGenerator\n",
    "\n",
    "# Path to the saved model\n",
    "model_path = 'my_model.h5'\n",
    "\n",
    "# Load the model\n",
    "model = tf.keras.models.load_model(model_path)\n",
    "\n",
    "# Path to the image you want to predict\n",
    "image_path = 'foodbhai.jpg'\n",
    "\n",
    "# Load and preprocess the image\n",
    "img = cv2.imread(image_path)\n",
    "img = cv2.cvtColor(img, cv2.COLOR_BGR2RGB)\n",
    "img = cv2.resize(img, (250, 250))  # Resize to match model's expected input size\n",
    "img = img / 255.0  # Normalize the image\n",
    "img = np.expand_dims(img, axis=0)  # Add batch dimension\n",
    "\n",
    "# Make prediction\n",
    "predictions = model.predict(img)\n",
    "predicted_class = np.argmax(predictions, axis=1)\n",
    "\n",
    "# Load labels\n",
    "labels = {0: 'damaged_seat', 1: 'damaged_window', 2: 'food_dataset', 3: 'unhyg_comp', 4: 'unhyg_toilet', 5: 'unhyg_washbasin', 6 : 'violence_train' }  # Update with your labels\n",
    "\n",
    "# Print the result\n",
    "predicted_label = labels[predicted_class[0]]\n",
    "print(f'The predicted class for the image is: {predicted_label}')\n"
   ]
  }
 ],
 "metadata": {
  "kernelspec": {
   "display_name": "Python 3",
   "language": "python",
   "name": "python3"
  },
  "language_info": {
   "codemirror_mode": {
    "name": "ipython",
    "version": 3
   },
   "file_extension": ".py",
   "mimetype": "text/x-python",
   "name": "python",
   "nbconvert_exporter": "python",
   "pygments_lexer": "ipython3",
   "version": "3.12.2"
  }
 },
 "nbformat": 4,
 "nbformat_minor": 2
}
